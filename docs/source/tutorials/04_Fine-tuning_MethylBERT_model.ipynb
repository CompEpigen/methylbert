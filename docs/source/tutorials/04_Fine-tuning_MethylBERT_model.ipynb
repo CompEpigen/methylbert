{
 "cells": [
  {
   "cell_type": "markdown",
   "id": "c5f3d4a6-19ff-4311-a071-6f86210485b1",
   "metadata": {},
   "source": [
    "# _MethylBERT_ fine-tuning\n",
    "\n",
    "Once the pure cell-type data is preprocessed following the [previous tutorial](https://github.com/hanyangii/methylbert/blob/main/tutorials/02_Preprocessing_training_data.ipynb), you can fine-tune the pre-trained MethylBERT model. "
   ]
  },
  {
   "cell_type": "code",
   "execution_count": 1,
   "id": "03dab99c-174f-44dc-beba-c763c5204b00",
   "metadata": {},
   "outputs": [
    
   ],
   "source": [
    "from methylbert.utils import set_seed\n",
    "import warnings\n",
    "warnings.filterwarnings(\"ignore\") # Ignore warnings for a clear notebook\n",
    "\n",
    "set_seed(42)\n",
    "seq_len=150\n",
    "n_mers=3\n",
    "batch_size=5\n",
    "num_workers=20\n",
    "output_path = \"tmp/fine_tune/\""
   ]
  },
  {
   "cell_type": "markdown",
   "id": "f40327b2-acd1-4e13-a0ce-f6d695e447d2",
   "metadata": {},
   "source": [
    "### Load training and evaluation data\n",
    "\n",
    "The preprocessed data must be loaded into the `MethylBertFinetuneDataset` and the [pytorch DataLoader](https://pytorch.org/tutorials/beginner/basics/data_tutorial.html) object. \n",
    "\n",
    "You can change the number of workers and the batch size depending on the CPU/GPU resources you have.\n",
    "Please find more detailed explanation [here](https://pytorch.org/docs/stable/data.html#torch.utils.data.DataLoader)."
   ]
  },
  {
   "cell_type": "code",
   "execution_count": 2,
   "id": "990b1d40-9f2f-4fca-9340-2d465ff735b9",
   "metadata": {},
   "outputs": [
    {
     "name": "stdout",
     "output_type": "stream",
     "text": [
      "Building Vocab\n",
      "Total number of sequences :  3052\n",
      "# of reads in each label:  [1561. 1491.]\n",
      "Total number of sequences :  763\n",
      "# of reads in each label:  [383. 380.]\n"
     ]
    }
   ],
   "source": [
    "from torch.utils.data import DataLoader\n",
    "from methylbert.data.vocab import MethylVocab\n",
    "from methylbert.data.dataset import MethylBertFinetuneDataset\n",
    "\n",
    "# Creat a look-up table\n",
    "tokenizer = MethylVocab(n_mers)\n",
    "\n",
    "# Load the data files int a data set object\n",
    "train_dataset = MethylBertFinetuneDataset(\"tmp/train_seq.csv\", \n",
    "                                          tokenizer, \n",
    "                                          seq_len=seq_len)\n",
    "test_dataset = MethylBertFinetuneDataset(\"tmp/test_seq.csv\", \n",
    "                                         tokenizer,seq_len=seq_len) \n",
    "\n",
    "# Load the data into a data loader\n",
    "train_data_loader = DataLoader(train_dataset, batch_size= batch_size, \n",
    "                               num_workers= num_workers, pin_memory=False,  \n",
    "                               shuffle=True)\n",
    "test_data_loader = DataLoader(test_dataset, batch_size= batch_size, \n",
    "                              num_workers= num_workers, pin_memory=True,  \n",
    "                              shuffle=False)\n"
   ]
  },
  {
   "cell_type": "markdown",
   "id": "8704759b-3457-4a71-8343-7e4b57f62286",
   "metadata": {},
   "source": [
    "### Create _MethylBERT_ model\n",
    "\n",
    "`MethylBERT FinetuneTrainer` gets the `DataLoader` objects and hyperparameters for the training as input. \n"
   ]
  },
  {
   "cell_type": "code",
   "execution_count": 7,
   "id": "50725fec-1640-4555-90ba-fe65b0989dbb",
   "metadata": {},
   "outputs": [
    {
     "name": "stdout",
     "output_type": "stream",
     "text": [
      "The model is loaded on CPU\n"
     ]
    }
   ],
   "source": [
    "from methylbert.trainer import MethylBertFinetuneTrainer\n",
    "import os\n",
    "\n",
    "trainer = MethylBertFinetuneTrainer(len(tokenizer), \n",
    "                      save_path=output_path, \n",
    "                      train_dataloader=train_data_loader, \n",
    "                      test_dataloader=test_data_loader,\n",
    "                      lr=1e-4, with_cuda=False, \n",
    "                      log_freq=1,\n",
    "                      #eval_freq=10, #activate this only when you want to evaluate the model with test_data_loader\n",
    "                      warmup_step=3)"
   ]
  },
  {
   "cell_type": "markdown",
   "id": "3490be8a-1b04-43e4-b214-89b64d8fd0dc",
   "metadata": {},
   "source": [
    "#### Load pre-training model from the uploaded models (huggingface.co/hanyangii/)\n",
    "\n",
    "Pre-trained models with 2, 4, 6, 8, and 12 encoder blocks are available for MethylBERT. \n",
    "You can give an argument \"hanyangii/methylbert_hg19_{number of encoder blocks}l\" to the `load` function. "
   ]
  },
  {
   "cell_type": "code",
   "execution_count": 12,
   "id": "ec5e444c",
   "metadata": {},
   "outputs": [
    {
     "name": "stdout",
     "output_type": "stream",
     "text": [
      "Restore the pretrained model hanyangii/methylbert_hg19_4l\n"
     ]
    },
    {
     "data": {
      "application/vnd.jupyter.widget-view+json": {
       "model_id": "5ed74f3e19bd494e99be7dafd39cecb3",
       "version_major": 2,
       "version_minor": 0
      },
      "text/plain": [
       "config.json:   0%|          | 0.00/1.11k [00:00<?, ?B/s]"
      ]
     },
     "metadata": {},
     "output_type": "display_data"
    },
    {
     "data": {
      "application/vnd.jupyter.widget-view+json": {
       "model_id": "5e0b633737fd4d408985e8c9a56060a1",
       "version_major": 2,
       "version_minor": 0
      },
      "text/plain": [
       "pytorch_model.bin:   0%|          | 0.00/120M [00:00<?, ?B/s]"
      ]
     },
     "metadata": {},
     "output_type": "display_data"
    },
    {
     "name": "stderr",
     "output_type": "stream",
     "text": [
      "Some weights of MethylBertEmbeddedDMR were not initialized from the model checkpoint at hanyangii/methylbert_hg19_4l and are newly initialized: ['dmr_encoder.0.weight', 'read_classifier.0.bias', 'read_classifier.0.weight', 'read_classifier.3.bias', 'read_classifier.3.weight', 'read_classifier.4.bias', 'read_classifier.4.weight']\n",
      "You should probably TRAIN this model on a down-stream task to be able to use it for predictions and inference.\n"
     ]
    },
    {
     "name": "stdout",
     "output_type": "stream",
     "text": [
      "Total Parameters: 46929874\n"
     ]
    }
   ],
   "source": [
    "trainer.load(\"hanyangii/methylbert_hg19_4l\")"
   ]
  },
  {
   "cell_type": "markdown",
   "id": "82de1a2d-3b09-4454-8b80-35b407474d35",
   "metadata": {},
   "source": [
    "#### Load pre-training model from a local directory\n",
    "\n",
    "If you have the pre-trained model saved in a directory containing `config.json` and `pytorch_model.bin` files"
   ]
  },
  {
   "cell_type": "code",
   "execution_count": 8,
   "id": "f33bb4e8-4134-436f-b60c-b27547e4096a",
   "metadata": {},
   "outputs": [
    {
     "name": "stdout",
     "output_type": "stream",
     "text": [
      "\u001b[0m\u001b[01;36mconfig.json\u001b[0m@  \u001b[01;36mpytorch_model.bin\u001b[0m@\n"
     ]
    }
   ],
   "source": [
    "ls ../test/data/pretrained_model/"
   ]
  },
  {
   "cell_type": "markdown",
   "id": "082653be-527e-4777-97fb-713fe5329ed7",
   "metadata": {},
   "source": [
    "You can directly load the model using `load` function to `MethylBertFinetuneTrainer`. "
   ]
  },
  {
   "cell_type": "code",
   "execution_count": 9,
   "id": "4e164645-3ecf-45dd-8736-25548d7debef",
   "metadata": {},
   "outputs": [
    {
     "name": "stdout",
     "output_type": "stream",
     "text": [
      "Restore the pretrained model ../test/data/pretrained_model/\n",
      "Total Parameters: 32754130\n"
     ]
    }
   ],
   "source": [
    "trainer.load(\"../test/data/pretrained_model/\")"
   ]
  },
  {
   "cell_type": "markdown",
   "id": "00fd81c0-2cbe-472c-a64f-7092b5ac1df2",
   "metadata": {},
   "source": [
    "#### Train the _MethylBERT_ model without pre-training\n",
    "If you do not have a pre-trained _MethylBERT_ model, you can create a new _MethylBERT_ model from a configuration file. \n",
    "For example, the baseline BERT model config file can be downlaoded from from https://huggingface.co/bert-base-uncased/blob/main/config.json."
   ]
  },
  {
   "cell_type": "code",
   "execution_count": 6,
   "id": "b8aa6175-25cb-40cc-b539-0ae82ca5997b",
   "metadata": {},
   "outputs": [
    {
     "name": "stdout",
     "output_type": "stream",
     "text": [
      "{\n",
      "  \"architectures\": [\n",
      "    \"BertForMaskedLM\"\n",
      "  ],\n",
      "  \"attention_probs_dropout_prob\": 0.1,\n",
      "  \"gradient_checkpointing\": false,\n",
      "  \"hidden_act\": \"gelu\",\n",
      "  \"hidden_dropout_prob\": 0.1,\n",
      "  \"hidden_size\": 768,\n",
      "  \"initializer_range\": 0.02,\n",
      "  \"intermediate_size\": 3072,\n",
      "  \"layer_norm_eps\": 1e-12,\n",
      "  \"max_position_embeddings\": 512,\n",
      "  \"model_type\": \"bert\",\n",
      "  \"num_attention_heads\": 12,\n",
      "  \"num_hidden_layers\": 12,\n",
      "  \"pad_token_id\": 0,\n",
      "  \"position_embedding_type\": \"absolute\",\n",
      "  \"transformers_version\": \"4.6.0.dev0\",\n",
      "  \"type_vocab_size\": 2,\n",
      "  \"use_cache\": true,\n",
      "  \"vocab_size\": 30522\n",
      "}\n"
     ]
    }
   ],
   "source": [
    "cat ../test/data/config.json"
   ]
  },
  {
   "cell_type": "markdown",
   "id": "0eda78e0-bb1f-4f48-9882-353e0d45b746",
   "metadata": {},
   "source": [
    "Then `create_model` function of the trainer creates a new _MethylBERT_ from the config file."
   ]
  },
  {
   "cell_type": "code",
   "execution_count": 7,
   "id": "23a590ce-b632-4497-9398-678ade2d2350",
   "metadata": {},
   "outputs": [
    {
     "name": "stdout",
     "output_type": "stream",
     "text": [
      "Total Parameters: 32754130\n"
     ]
    }
   ],
   "source": [
    "trainer.create_model(config_file=\"../test/data/pretrained_model/config.json\")\n"
   ]
  },
  {
   "cell_type": "markdown",
   "id": "681cf823-5802-4fd7-b4c0-3dec19d0fe7a",
   "metadata": {},
   "source": [
    "`train` function starts the training of _MethylBERT_ model during the given number of steps. "
   ]
  },
  {
   "cell_type": "code",
   "execution_count": 8,
   "id": "aaf5dd61-2705-4e16-b06d-fe63957f8371",
   "metadata": {},
   "outputs": [
    {
     "name": "stdout",
     "output_type": "stream",
     "text": [
      "\n",
      "Train Step 0 iter - loss : 0.802449 / lr : 0.000033\n",
      "Running time for iter = 0.6947791576385498\n",
      "Step 0 loss (0.695615) is lower than the current min loss (inf). Save the model at tmp/fine_tune/\n",
      "Step:0 Model Saved on: tmp/fine_tune/\n"
     ]
    },
    {
     "name": "stdout",
     "output_type": "stream",
     "text": [
      "\n",
      "Train Step 1 iter - loss : 0.823174 / lr : 0.000067\n",
      "Running time for iter = 0.621410608291626\n"
     ]
    },
    {
     "name": "stdout",
     "output_type": "stream",
     "text": [
      "\n",
      "Train Step 2 iter - loss : 1.258267 / lr : 0.000100\n",
      "Running time for iter = 0.5103580951690674\n"
     ]
    },
    {
     "name": "stdout",
     "output_type": "stream",
     "text": [
      "\n",
      "Train Step 3 iter - loss : 0.490022 / lr : 0.000100\n",
      "Running time for iter = 0.5122716426849365\n"
     ]
    },
    {
     "name": "stdout",
     "output_type": "stream",
     "text": [
      "\n",
      "Train Step 4 iter - loss : 1.356685 / lr : 0.000100\n",
      "Running time for iter = 0.5860369205474854\n"
     ]
    },
    {
     "name": "stdout",
     "output_type": "stream",
     "text": [
      "\n",
      "Train Step 5 iter - loss : 0.959048 / lr : 0.000100\n",
      "Running time for iter = 0.6873147487640381\n"
     ]
    },
    {
     "name": "stdout",
     "output_type": "stream",
     "text": [
      "\n",
      "Train Step 6 iter - loss : 0.939311 / lr : 0.000100\n",
      "Running time for iter = 0.4517858028411865\n"
     ]
    },
    {
     "name": "stdout",
     "output_type": "stream",
     "text": [
      "\n",
      "Train Step 7 iter - loss : 0.776077 / lr : 0.000100\n",
      "Running time for iter = 0.6021583080291748\n",
      "Step 7 loss (0.691268) is lower than the current min loss (0.695615). Save the model at tmp/fine_tune/\n",
      "Step:7 Model Saved on: tmp/fine_tune/\n"
     ]
    },
    {
     "name": "stdout",
     "output_type": "stream",
     "text": [
      "\n",
      "Train Step 8 iter - loss : 0.657497 / lr : 0.000100\n",
      "Running time for iter = 0.4712505340576172\n",
      "Step 8 loss (0.685933) is lower than the current min loss (0.691268). Save the model at tmp/fine_tune/\n",
      "Step:8 Model Saved on: tmp/fine_tune/\n"
     ]
    },
    {
     "name": "stdout",
     "output_type": "stream",
     "text": [
      "\n",
      "Train Step 9 iter - loss : 0.690212 / lr : 0.000100\n",
      "Running time for iter = 0.4791133403778076\n"
     ]
    }
   ],
   "source": [
    "trainer.train(steps=10)"
   ]
  },
  {
   "cell_type": "markdown",
   "id": "e0906eea-c0ac-435c-944d-13cd4381c3da",
   "metadata": {},
   "source": [
    "It creates six files in the given `save_path`:\n",
    "1. `config.json` and `pytorch_model.bin`: model configuration and the trained `MethylBERT` model\n",
    "2. `dmr_encoder.pickle` : The trained DMR encoder in the _MethylBERT_ model\n",
    "3. `read_classification_model.pickle` : The trained fully connected neural network for read classification\n",
    "4. `train.csv` and `eval.csv` : tracked training and evaluation loss and accuracy values during the training"
   ]
  },
  {
   "cell_type": "code",
   "execution_count": 9,
   "id": "982c6c2d-a6ea-4925-9f13-1fe965a057fc",
   "metadata": {},
   "outputs": [
    {
     "name": "stdout",
     "output_type": "stream",
     "text": [
      "config.json         eval.csv           read_classification_model.pickle\n",
      "dmr_encoder.pickle  pytorch_model.bin  train.csv\n"
     ]
    }
   ],
   "source": [
    "ls tmp/fine_tune/"
   ]
  },
  {
   "cell_type": "code",
   "execution_count": 10,
   "id": "df842203-c972-4c81-b708-75113d9e6e57",
   "metadata": {},
   "outputs": [
    {
     "data": {
      "text/html": [
       "<div>\n",
       "<style scoped>\n",
       "    .dataframe tbody tr th:only-of-type {\n",
       "        vertical-align: middle;\n",
       "    }\n",
       "\n",
       "    .dataframe tbody tr th {\n",
       "        vertical-align: top;\n",
       "    }\n",
       "\n",
       "    .dataframe thead th {\n",
       "        text-align: right;\n",
       "    }\n",
       "</style>\n",
       "<table border=\"1\" class=\"dataframe\">\n",
       "  <thead>\n",
       "    <tr style=\"text-align: right;\">\n",
       "      <th></th>\n",
       "      <th>step</th>\n",
       "      <th>loss</th>\n",
       "      <th>ctype_acc</th>\n",
       "      <th>lr</th>\n",
       "    </tr>\n",
       "  </thead>\n",
       "  <tbody>\n",
       "    <tr>\n",
       "      <th>0</th>\n",
       "      <td>0</td>\n",
       "      <td>0.802449</td>\n",
       "      <td>0.2</td>\n",
       "      <td>0.000033</td>\n",
       "    </tr>\n",
       "    <tr>\n",
       "      <th>1</th>\n",
       "      <td>1</td>\n",
       "      <td>0.823174</td>\n",
       "      <td>0.0</td>\n",
       "      <td>0.000067</td>\n",
       "    </tr>\n",
       "    <tr>\n",
       "      <th>2</th>\n",
       "      <td>2</td>\n",
       "      <td>1.258267</td>\n",
       "      <td>0.2</td>\n",
       "      <td>0.000100</td>\n",
       "    </tr>\n",
       "    <tr>\n",
       "      <th>3</th>\n",
       "      <td>3</td>\n",
       "      <td>0.490022</td>\n",
       "      <td>0.8</td>\n",
       "      <td>0.000100</td>\n",
       "    </tr>\n",
       "    <tr>\n",
       "      <th>4</th>\n",
       "      <td>4</td>\n",
       "      <td>1.356685</td>\n",
       "      <td>0.2</td>\n",
       "      <td>0.000100</td>\n",
       "    </tr>\n",
       "  </tbody>\n",
       "</table>\n",
       "</div>"
      ],
      "text/plain": [
       "   step      loss  ctype_acc        lr\n",
       "0     0  0.802449        0.2  0.000033\n",
       "1     1  0.823174        0.0  0.000067\n",
       "2     2  1.258267        0.2  0.000100\n",
       "3     3  0.490022        0.8  0.000100\n",
       "4     4  1.356685        0.2  0.000100"
      ]
     },
     "execution_count": 10,
     "metadata": {},
     "output_type": "execute_result"
    }
   ],
   "source": [
    "import pandas as pd\n",
    "df_train  = pd.read_csv(\"tmp/fine_tune/train.csv\", sep=\"\\t\")\n",
    "df_train.head()"
   ]
  },
  {
   "cell_type": "code",
   "execution_count": 11,
   "id": "e4078b38-6e6b-498c-9a8d-7681de8e309d",
   "metadata": {},
   "outputs": [
    {
     "data": {
      "text/html": [
       "<div>\n",
       "<style scoped>\n",
       "    .dataframe tbody tr th:only-of-type {\n",
       "        vertical-align: middle;\n",
       "    }\n",
       "\n",
       "    .dataframe tbody tr th {\n",
       "        vertical-align: top;\n",
       "    }\n",
       "\n",
       "    .dataframe thead th {\n",
       "        text-align: right;\n",
       "    }\n",
       "</style>\n",
       "<table border=\"1\" class=\"dataframe\">\n",
       "  <thead>\n",
       "    <tr style=\"text-align: right;\">\n",
       "      <th></th>\n",
       "      <th>step</th>\n",
       "      <th>loss</th>\n",
       "      <th>ctype_acc</th>\n",
       "    </tr>\n",
       "  </thead>\n",
       "  <tbody>\n",
       "    <tr>\n",
       "      <th>0</th>\n",
       "      <td>0</td>\n",
       "      <td>0.695615</td>\n",
       "      <td>0.522936</td>\n",
       "    </tr>\n",
       "    <tr>\n",
       "      <th>1</th>\n",
       "      <td>1</td>\n",
       "      <td>0.876368</td>\n",
       "      <td>0.501966</td>\n",
       "    </tr>\n",
       "    <tr>\n",
       "      <th>2</th>\n",
       "      <td>2</td>\n",
       "      <td>0.932430</td>\n",
       "      <td>0.501966</td>\n",
       "    </tr>\n",
       "    <tr>\n",
       "      <th>3</th>\n",
       "      <td>3</td>\n",
       "      <td>0.942029</td>\n",
       "      <td>0.501966</td>\n",
       "    </tr>\n",
       "    <tr>\n",
       "      <th>4</th>\n",
       "      <td>4</td>\n",
       "      <td>0.849511</td>\n",
       "      <td>0.501966</td>\n",
       "    </tr>\n",
       "  </tbody>\n",
       "</table>\n",
       "</div>"
      ],
      "text/plain": [
       "   step      loss  ctype_acc\n",
       "0     0  0.695615   0.522936\n",
       "1     1  0.876368   0.501966\n",
       "2     2  0.932430   0.501966\n",
       "3     3  0.942029   0.501966\n",
       "4     4  0.849511   0.501966"
      ]
     },
     "execution_count": 11,
     "metadata": {},
     "output_type": "execute_result"
    }
   ],
   "source": [
    "df_eval  = pd.read_csv(\"tmp/fine_tune/eval.csv\", sep=\"\\t\")\n",
    "df_eval.head()"
   ]
  },
  {
   "cell_type": "code",
   "execution_count": 14,
   "id": "f096d980-c69e-480c-a7cf-16e6086d75d8",
   "metadata": {},
   "outputs": [
    {
     "data": {
      "image/png": "[encoded data removed]",
      "text/plain": [
       "<Figure size 432x288 with 1 Axes>"
      ]
     },
     "metadata": {
      "needs_background": "light"
     },
     "output_type": "display_data"
    }
   ],
   "source": [
    "import seaborn as sns\n",
    "import matplotlib.pyplot as plt\n",
    "sns.lineplot(data=df_train, x=\"step\", y=\"loss\", label=\"train loss\")\n",
    "sns.lineplot(data=df_eval, x=\"step\", y=\"loss\", label=\"eval loss\")\n",
    "plt.show()"
   ]
  },
  {
   "cell_type": "code",
   "execution_count": 15,
   "id": "d5dfc084-6172-4747-8de0-f1470c5930b3",
   "metadata": {},
   "outputs": [
    {
     "data": {
      "image/png": "[encoded data removed]",
      "text/plain": [
       "<Figure size 432x288 with 1 Axes>"
      ]
     },
     "metadata": {
      "needs_background": "light"
     },
     "output_type": "display_data"
    }
   ],
   "source": [
    "sns.lineplot(data=df_train, x=\"step\", y=\"lr\", label=\"learning rate\", color=\"m\")\n",
    "plt.show()"
   ]
  }
 ],
 "metadata": {
  "kernelspec": {
   "display_name": "methylbert",
   "language": "python",
   "name": "methylbert"
  },
  "language_info": {
   "codemirror_mode": {
    "name": "ipython",
    "version": 3
   },
   "file_extension": ".py",
   "mimetype": "text/x-python",
   "name": "python",
   "nbconvert_exporter": "python",
   "pygments_lexer": "ipython3",
   "version": "3.7.0"
  }
 },
 "nbformat": 4,
 "nbformat_minor": 5
}
